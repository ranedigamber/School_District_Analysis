{
 "cells": [
  {
   "cell_type": "code",
   "execution_count": 1,
   "id": "2cb28574",
   "metadata": {},
   "outputs": [],
   "source": [
    "import pandas as pd\n"
   ]
  },
  {
   "cell_type": "code",
   "execution_count": null,
   "id": "4f60ae02",
   "metadata": {},
   "outputs": [],
   "source": [
    "#drop all rows with missing information\n",
    "df = df.dropna(how='any')"
   ]
  },
  {
   "cell_type": "code",
   "execution_count": null,
   "id": "af7db955",
   "metadata": {},
   "outputs": [],
   "source": [
    "#deletes columns\n",
    "df.del[columnname]"
   ]
  },
  {
   "cell_type": "code",
   "execution_count": null,
   "id": "98a8a793",
   "metadata": {},
   "outputs": [],
   "source": [
    "#display an overview of the employer column\n",
    "df['Employer'].value_counts()"
   ]
  },
  {
   "cell_type": "code",
   "execution_count": null,
   "id": "44526069",
   "metadata": {},
   "outputs": [],
   "source": [
    "#Clean up the employer catergory. Replace 'selfemployed' and 'self' with 'self-employed'\n",
    "df['employer'] = df['employer'].replace(\n",
    "{'self employed': 'self-employed', 'self': 'self-employed'})"
   ]
  },
  {
   "cell_type": "code",
   "execution_count": null,
   "id": "426b6aed",
   "metadata": {},
   "outputs": [],
   "source": []
  }
 ],
 "metadata": {
  "kernelspec": {
   "display_name": "PythonData",
   "language": "python",
   "name": "pythondata"
  },
  "language_info": {
   "codemirror_mode": {
    "name": "ipython",
    "version": 3
   },
   "file_extension": ".py",
   "mimetype": "text/x-python",
   "name": "python",
   "nbconvert_exporter": "python",
   "pygments_lexer": "ipython3",
   "version": "3.7.13"
  }
 },
 "nbformat": 4,
 "nbformat_minor": 5
}
